{
 "cells": [
  {
   "cell_type": "code",
   "execution_count": null,
   "metadata": {},
   "outputs": [],
   "source": [
    "#Facial Biometric\n",
    "#Dataset"
   ]
  },
  {
   "cell_type": "code",
   "execution_count": 6,
   "metadata": {},
   "outputs": [],
   "source": [
    "import os\n",
    "import matplotlib.pyplot as plt\n",
    "import numpy as np   # bring NumPy library into the current environment and give NumPy the alias of np\n",
    "import cv2\n",
    "img_size=224  # define the imagae size"
   ]
  },
  {
   "cell_type": "markdown",
   "metadata": {},
   "source": [
    "#Face Recognition"
   ]
  },
  {
   "cell_type": "code",
   "execution_count": 2,
   "metadata": {},
   "outputs": [],
   "source": [
    "# importing the libraries\n",
    "\n",
    "import tensorflow as tf\n",
    "from tensorflow import keras\n",
    "from tensorflow.keras import layers\n",
    "from keras.models import load_model"
   ]
  },
  {
   "cell_type": "markdown",
   "metadata": {},
   "source": [
    "read all the images and converting them to array\n"
   ]
  },
  {
   "cell_type": "code",
   "execution_count": 119,
   "metadata": {},
   "outputs": [
    {
     "name": "stdout",
     "output_type": "stream",
     "text": [
      "OpenCV(4.5.5) /Users/runner/work/opencv-python/opencv-python/opencv/modules/imgproc/src/color.cpp:182: error: (-215:Assertion failed) !_src.empty() in function 'cvtColor'\n",
      "\n",
      "OpenCV(4.5.5) /Users/runner/work/opencv-python/opencv-python/opencv/modules/imgproc/src/color.cpp:182: error: (-215:Assertion failed) !_src.empty() in function 'cvtColor'\n",
      "\n",
      "OpenCV(4.5.5) /Users/runner/work/opencv-python/opencv-python/opencv/modules/imgproc/src/color.cpp:182: error: (-215:Assertion failed) !_src.empty() in function 'cvtColor'\n",
      "\n"
     ]
    }
   ],
   "source": [
    "#Transfering 7 folders of Train set to a Python list with 7 length including the target\n",
    "patht,dirst,filest=next(os.walk(\"/Users/behroozabbaszadeh/Facedetect/newdata/train/\"))\n",
    "train_data=[]\n",
    "train_target=[]\n",
    "Classes=dirst\n",
    "for category in dirst:\n",
    "    path = os.path.join(patht, category)\n",
    "    class_num = Classes.index(category) \n",
    "    training_Data=[]\n",
    "    training_target=[]\n",
    "    for img in os.listdir(path):\n",
    "      \n",
    "      try:\n",
    "        img_array = cv2.imread(os.path.join(path,img), cv2.IMREAD_GRAYSCALE)\n",
    "        backtorgb = cv2.cvtColor(img_array, cv2.COLOR_GRAY2RGB)\n",
    "        new_array = cv2.resize(backtorgb, (img_size, img_size))\n",
    "        training_Data.append(new_array)\n",
    "        training_target.append( class_num)\n",
    "      except Exception as e:\n",
    "        print(e)\n",
    "        pass\n",
    "    train_data.append(training_Data)\n",
    "    train_target.append(training_target)"
   ]
  },
  {
   "cell_type": "code",
   "execution_count": 120,
   "metadata": {},
   "outputs": [],
   "source": [
    "# creating a train set in numpy and then convert it to Tensor\n",
    "\n",
    "Train_data = np.empty((0,img_size,img_size,3),dtype=int)\n",
    "ytrain = np.empty((0,),dtype=int)\n",
    "for i in range(len(train_data)):\n",
    "\n",
    "\n",
    "    Train_data = np.concatenate((Train_data, train_data[i]))\n",
    "    ytrain = np.concatenate((ytrain, train_target[i]))\n",
    "\n",
    "\n",
    "u_train = tf.convert_to_tensor(Train_data) #convert numpy (train set) to Tensor\n",
    "u_traintarget = tf.convert_to_tensor(ytrain) #convert numpy (target test) to Tensor\n",
    "    \n"
   ]
  },
  {
   "cell_type": "code",
   "execution_count": null,
   "metadata": {},
   "outputs": [],
   "source": [
    "# Normalizing the data to speed up the learning and faster convergence\n",
    "u_train=u_train/255.0"
   ]
  },
  {
   "cell_type": "code",
   "execution_count": null,
   "metadata": {},
   "outputs": [],
   "source": [
    "# Transfering the Test set from 7 folders to a Python list with 7 length including the target\n",
    "\n",
    "patht,dirst,filest=next(os.walk(\"/Users/behroozabbaszadeh/Facedetect/newdata/test/\"))\n",
    "test_data=[]\n",
    "test_target=[]\n",
    "Classes=dirst\n",
    "for category in dirst:\n",
    "    path = os.path.join(patht, category)\n",
    "    class_num = Classes.index(category) \n",
    "    testing_Data=[]\n",
    "    testing_target=[]\n",
    "    for img in os.listdir(path):\n",
    "      \n",
    "      try:\n",
    "        img_array = cv2.imread(os.path.join(path,img), cv2.IMREAD_GRAYSCALE)\n",
    "        backtorgb = cv2.cvtColor(img_array, cv2.COLOR_GRAY2RGB)\n",
    "        new_array = cv2.resize(backtorgb, (img_size, img_size))\n",
    "        testing_Data.append(new_array)\n",
    "        testing_target.append( class_num)\n",
    "      except Exception as e:\n",
    "        print(e)\n",
    "        pass\n",
    "    test_data.append(testing_Data)\n",
    "    test_target.append(testing_target)"
   ]
  },
  {
   "cell_type": "code",
   "execution_count": null,
   "metadata": {},
   "outputs": [],
   "source": [
    "# creating a test set in numpy and then convert it to Tensor\n",
    "\n",
    "Test_data = np.empty((0,img_size,img_size,3),dtype=int)\n",
    "ytest = np.empty((0,),dtype=int)\n",
    "for i in range(len(test_data)):\n",
    "\n",
    "\n",
    "    Test_data = np.concatenate((Test_data, test_data[i]))\n",
    "    ytest = np.concatenate((ytest, test_target[i]))\n",
    "\n",
    "\n",
    "u_test = tf.convert_to_tensor(Test_data) #convert numpy (test set) to Tensor\n",
    "u_testtarget = tf.convert_to_tensor(ytest) #convert numpy (target test) to Tensor"
   ]
  },
  {
   "cell_type": "code",
   "execution_count": null,
   "metadata": {},
   "outputs": [],
   "source": [
    "# building a CNN using TensorFlow\n",
    "\n",
    "model=tf.keras.applications.MobileNetV2()\n",
    "base_input=model.layers[0].input\n",
    "base_output=model.layers[-2].output\n",
    "final_output=layers.Dense(128)(base_output)\n",
    "final_ouput=layers.Activation(\"relu\")(final_output)\n",
    "final_output=layers.Dense(64)(final_output)\n",
    "final_output=layers.Activation(\"relu\")(final_output)\n",
    "final_output=layers.Dense(7,activation=\"softmax\")(final_output)\n",
    "new_model=keras.Model(inputs=base_input,outputs=final_output)\n",
    "new_model.compile(loss=\"sparse_categorical_crossentropy\",optimizer=\"adam\",metrics=[\"accuracy\"])"
   ]
  },
  {
   "cell_type": "code",
   "execution_count": null,
   "metadata": {},
   "outputs": [],
   "source": [
    "# explore the summary of the model\n",
    "new_model.summary()"
   ]
  },
  {
   "cell_type": "code",
   "execution_count": 15,
   "metadata": {},
   "outputs": [
    {
     "name": "stdout",
     "output_type": "stream",
     "text": [
      "Epoch 1/25\n",
      "898/898 [==============================] - 2485s 3s/step - loss: 1.2774 - accuracy: 0.5202\n",
      "Epoch 2/25\n",
      "898/898 [==============================] - 2376s 3s/step - loss: 1.0803 - accuracy: 0.5963\n",
      "Epoch 3/25\n",
      "898/898 [==============================] - 2328s 3s/step - loss: 1.0045 - accuracy: 0.6267\n",
      "Epoch 4/25\n",
      "898/898 [==============================] - 2232s 2s/step - loss: 0.9483 - accuracy: 0.6478\n",
      "Epoch 5/25\n",
      "898/898 [==============================] - 2231s 2s/step - loss: 0.8918 - accuracy: 0.6718\n",
      "Epoch 6/25\n",
      "898/898 [==============================] - 2225s 2s/step - loss: 0.8532 - accuracy: 0.6827\n",
      "Epoch 7/25\n",
      "898/898 [==============================] - 2231s 2s/step - loss: 0.8056 - accuracy: 0.7059\n",
      "Epoch 8/25\n",
      "898/898 [==============================] - 2234s 2s/step - loss: 0.7419 - accuracy: 0.7243\n",
      "Epoch 9/25\n",
      "898/898 [==============================] - 2234s 2s/step - loss: 0.6918 - accuracy: 0.7458\n",
      "Epoch 10/25\n",
      "898/898 [==============================] - 2241s 2s/step - loss: 0.6507 - accuracy: 0.7629\n",
      "Epoch 11/25\n",
      "898/898 [==============================] - 2243s 2s/step - loss: 0.5790 - accuracy: 0.7876\n",
      "Epoch 12/25\n",
      "898/898 [==============================] - 2277s 3s/step - loss: 0.5343 - accuracy: 0.8075\n",
      "Epoch 13/25\n",
      "898/898 [==============================] - 2294s 3s/step - loss: 0.4787 - accuracy: 0.8282\n",
      "Epoch 14/25\n",
      "898/898 [==============================] - 2428s 3s/step - loss: 0.4363 - accuracy: 0.8430\n",
      "Epoch 15/25\n",
      "898/898 [==============================] - 2491s 3s/step - loss: 0.3922 - accuracy: 0.8594\n",
      "Epoch 16/25\n",
      "898/898 [==============================] - 2428s 3s/step - loss: 0.3645 - accuracy: 0.8692\n",
      "Epoch 17/25\n",
      "898/898 [==============================] - 2417s 3s/step - loss: 0.3189 - accuracy: 0.8838\n",
      "Epoch 18/25\n",
      "898/898 [==============================] - 2464s 3s/step - loss: 0.2970 - accuracy: 0.8951\n",
      "Epoch 19/25\n",
      "898/898 [==============================] - 2453s 3s/step - loss: 0.2624 - accuracy: 0.9064\n",
      "Epoch 20/25\n",
      "898/898 [==============================] - 2420s 3s/step - loss: 0.2560 - accuracy: 0.9102\n",
      "Epoch 21/25\n",
      "898/898 [==============================] - 2423s 3s/step - loss: 0.2513 - accuracy: 0.9111\n",
      "Epoch 22/25\n",
      "898/898 [==============================] - 2428s 3s/step - loss: 0.2102 - accuracy: 0.9262\n",
      "Epoch 23/25\n",
      "898/898 [==============================] - 2428s 3s/step - loss: 0.2113 - accuracy: 0.9266\n",
      "Epoch 24/25\n",
      "898/898 [==============================] - 2432s 3s/step - loss: 0.1976 - accuracy: 0.9307\n",
      "Epoch 25/25\n",
      "898/898 [==============================] - 2431s 3s/step - loss: 0.1864 - accuracy: 0.9353\n"
     ]
    },
    {
     "data": {
      "text/plain": [
       "<keras.callbacks.History at 0x7fe803b459a0>"
      ]
     },
     "execution_count": 15,
     "metadata": {},
     "output_type": "execute_result"
    }
   ],
   "source": [
    "# train the model with traning data set\n",
    "new_model.fit(u_train,u_traintarget,epochs=25)"
   ]
  },
  {
   "cell_type": "code",
   "execution_count": 17,
   "metadata": {},
   "outputs": [],
   "source": [
    "new_model.save('Final_model_95.h5')   # we can save the model and then reload it again. we do not need to do but if we want we can save it and use it later"
   ]
  },
  {
   "cell_type": "code",
   "execution_count": 3,
   "metadata": {},
   "outputs": [
    {
     "name": "stderr",
     "output_type": "stream",
     "text": [
      "2022-06-27 06:17:13.516851: I tensorflow/core/platform/cpu_feature_guard.cc:151] This TensorFlow binary is optimized with oneAPI Deep Neural Network Library (oneDNN) to use the following CPU instructions in performance-critical operations:  AVX2 FMA\n",
      "To enable them in other operations, rebuild TensorFlow with the appropriate compiler flags.\n"
     ]
    }
   ],
   "source": [
    "NEW_model=tf.keras.models.load_model('Final_model_95.h5') # load the saved model for testing"
   ]
  },
  {
   "cell_type": "code",
   "execution_count": 15,
   "metadata": {},
   "outputs": [
    {
     "name": "stdout",
     "output_type": "stream",
     "text": [
      "WARNING:tensorflow:Model was constructed with shape (None, 48, 48, 1) for input KerasTensor(type_spec=TensorSpec(shape=(None, 48, 48, 1), dtype=tf.float32, name='input_CNN'), name='input_CNN', description=\"created by layer 'input_CNN'\"), but it was called on an input with incompatible shape (None, 48).\n"
     ]
    },
    {
     "ename": "ValueError",
     "evalue": "in user code:\n\n    File \"/Users/behroozabbaszadeh/opt/anaconda3/lib/python3.8/site-packages/keras/engine/training.py\", line 1621, in predict_function  *\n        return step_function(self, iterator)\n    File \"/Users/behroozabbaszadeh/opt/anaconda3/lib/python3.8/site-packages/keras/engine/training.py\", line 1611, in step_function  **\n        outputs = model.distribute_strategy.run(run_step, args=(data,))\n    File \"/Users/behroozabbaszadeh/opt/anaconda3/lib/python3.8/site-packages/keras/engine/training.py\", line 1604, in run_step  **\n        outputs = model.predict_step(data)\n    File \"/Users/behroozabbaszadeh/opt/anaconda3/lib/python3.8/site-packages/keras/engine/training.py\", line 1572, in predict_step\n        return self(x, training=False)\n    File \"/Users/behroozabbaszadeh/opt/anaconda3/lib/python3.8/site-packages/keras/utils/traceback_utils.py\", line 67, in error_handler\n        raise e.with_traceback(filtered_tb) from None\n    File \"/Users/behroozabbaszadeh/opt/anaconda3/lib/python3.8/site-packages/keras/engine/input_spec.py\", line 227, in assert_input_compatibility\n        raise ValueError(f'Input {input_index} of layer \"{layer_name}\" '\n\n    ValueError: Exception encountered when calling layer \"model_11\" (type Functional).\n    \n    Input 0 of layer \"conv2d_1\" is incompatible with the layer: expected min_ndim=4, found ndim=2. Full shape received: (None, 48)\n    \n    Call arguments received:\n      • inputs=tf.Tensor(shape=(None, 48), dtype=int64)\n      • training=False\n      • mask=None\n",
     "output_type": "error",
     "traceback": [
      "\u001b[0;31m---------------------------------------------------------------------------\u001b[0m",
      "\u001b[0;31mValueError\u001b[0m                                Traceback (most recent call last)",
      "\u001b[0;32m/var/folders/ks/l13bjd_n7lxglzbttng3p1zc0000gp/T/ipykernel_3636/3267490968.py\u001b[0m in \u001b[0;36m<module>\u001b[0;34m\u001b[0m\n\u001b[1;32m      2\u001b[0m \u001b[0marr\u001b[0m\u001b[0;34m=\u001b[0m\u001b[0mnp\u001b[0m\u001b[0;34m.\u001b[0m\u001b[0mresize\u001b[0m\u001b[0;34m(\u001b[0m\u001b[0mu_test\u001b[0m\u001b[0;34m,\u001b[0m\u001b[0;34m(\u001b[0m\u001b[0;36m48\u001b[0m\u001b[0;34m,\u001b[0m\u001b[0;36m48\u001b[0m\u001b[0;34m)\u001b[0m\u001b[0;34m)\u001b[0m\u001b[0;34m\u001b[0m\u001b[0;34m\u001b[0m\u001b[0m\n\u001b[1;32m      3\u001b[0m \u001b[0;31m#np.shape(arr)\u001b[0m\u001b[0;34m\u001b[0m\u001b[0;34m\u001b[0m\u001b[0;34m\u001b[0m\u001b[0m\n\u001b[0;32m----> 4\u001b[0;31m \u001b[0mPredictions\u001b[0m\u001b[0;34m=\u001b[0m\u001b[0mNEW_model\u001b[0m\u001b[0;34m.\u001b[0m\u001b[0mpredict\u001b[0m\u001b[0;34m(\u001b[0m\u001b[0marr\u001b[0m\u001b[0;34m)\u001b[0m  \u001b[0;31m#\u001b[0m\u001b[0;34m\u001b[0m\u001b[0;34m\u001b[0m\u001b[0m\n\u001b[0m",
      "\u001b[0;32m~/opt/anaconda3/lib/python3.8/site-packages/keras/utils/traceback_utils.py\u001b[0m in \u001b[0;36merror_handler\u001b[0;34m(*args, **kwargs)\u001b[0m\n\u001b[1;32m     65\u001b[0m     \u001b[0;32mexcept\u001b[0m \u001b[0mException\u001b[0m \u001b[0;32mas\u001b[0m \u001b[0me\u001b[0m\u001b[0;34m:\u001b[0m  \u001b[0;31m# pylint: disable=broad-except\u001b[0m\u001b[0;34m\u001b[0m\u001b[0;34m\u001b[0m\u001b[0m\n\u001b[1;32m     66\u001b[0m       \u001b[0mfiltered_tb\u001b[0m \u001b[0;34m=\u001b[0m \u001b[0m_process_traceback_frames\u001b[0m\u001b[0;34m(\u001b[0m\u001b[0me\u001b[0m\u001b[0;34m.\u001b[0m\u001b[0m__traceback__\u001b[0m\u001b[0;34m)\u001b[0m\u001b[0;34m\u001b[0m\u001b[0;34m\u001b[0m\u001b[0m\n\u001b[0;32m---> 67\u001b[0;31m       \u001b[0;32mraise\u001b[0m \u001b[0me\u001b[0m\u001b[0;34m.\u001b[0m\u001b[0mwith_traceback\u001b[0m\u001b[0;34m(\u001b[0m\u001b[0mfiltered_tb\u001b[0m\u001b[0;34m)\u001b[0m \u001b[0;32mfrom\u001b[0m \u001b[0;32mNone\u001b[0m\u001b[0;34m\u001b[0m\u001b[0;34m\u001b[0m\u001b[0m\n\u001b[0m\u001b[1;32m     68\u001b[0m     \u001b[0;32mfinally\u001b[0m\u001b[0;34m:\u001b[0m\u001b[0;34m\u001b[0m\u001b[0;34m\u001b[0m\u001b[0m\n\u001b[1;32m     69\u001b[0m       \u001b[0;32mdel\u001b[0m \u001b[0mfiltered_tb\u001b[0m\u001b[0;34m\u001b[0m\u001b[0;34m\u001b[0m\u001b[0m\n",
      "\u001b[0;32m~/opt/anaconda3/lib/python3.8/site-packages/tensorflow/python/framework/func_graph.py\u001b[0m in \u001b[0;36mautograph_handler\u001b[0;34m(*args, **kwargs)\u001b[0m\n\u001b[1;32m   1127\u001b[0m           \u001b[0;32mexcept\u001b[0m \u001b[0mException\u001b[0m \u001b[0;32mas\u001b[0m \u001b[0me\u001b[0m\u001b[0;34m:\u001b[0m  \u001b[0;31m# pylint:disable=broad-except\u001b[0m\u001b[0;34m\u001b[0m\u001b[0;34m\u001b[0m\u001b[0m\n\u001b[1;32m   1128\u001b[0m             \u001b[0;32mif\u001b[0m \u001b[0mhasattr\u001b[0m\u001b[0;34m(\u001b[0m\u001b[0me\u001b[0m\u001b[0;34m,\u001b[0m \u001b[0;34m\"ag_error_metadata\"\u001b[0m\u001b[0;34m)\u001b[0m\u001b[0;34m:\u001b[0m\u001b[0;34m\u001b[0m\u001b[0;34m\u001b[0m\u001b[0m\n\u001b[0;32m-> 1129\u001b[0;31m               \u001b[0;32mraise\u001b[0m \u001b[0me\u001b[0m\u001b[0;34m.\u001b[0m\u001b[0mag_error_metadata\u001b[0m\u001b[0;34m.\u001b[0m\u001b[0mto_exception\u001b[0m\u001b[0;34m(\u001b[0m\u001b[0me\u001b[0m\u001b[0;34m)\u001b[0m\u001b[0;34m\u001b[0m\u001b[0;34m\u001b[0m\u001b[0m\n\u001b[0m\u001b[1;32m   1130\u001b[0m             \u001b[0;32melse\u001b[0m\u001b[0;34m:\u001b[0m\u001b[0;34m\u001b[0m\u001b[0;34m\u001b[0m\u001b[0m\n\u001b[1;32m   1131\u001b[0m               \u001b[0;32mraise\u001b[0m\u001b[0;34m\u001b[0m\u001b[0;34m\u001b[0m\u001b[0m\n",
      "\u001b[0;31mValueError\u001b[0m: in user code:\n\n    File \"/Users/behroozabbaszadeh/opt/anaconda3/lib/python3.8/site-packages/keras/engine/training.py\", line 1621, in predict_function  *\n        return step_function(self, iterator)\n    File \"/Users/behroozabbaszadeh/opt/anaconda3/lib/python3.8/site-packages/keras/engine/training.py\", line 1611, in step_function  **\n        outputs = model.distribute_strategy.run(run_step, args=(data,))\n    File \"/Users/behroozabbaszadeh/opt/anaconda3/lib/python3.8/site-packages/keras/engine/training.py\", line 1604, in run_step  **\n        outputs = model.predict_step(data)\n    File \"/Users/behroozabbaszadeh/opt/anaconda3/lib/python3.8/site-packages/keras/engine/training.py\", line 1572, in predict_step\n        return self(x, training=False)\n    File \"/Users/behroozabbaszadeh/opt/anaconda3/lib/python3.8/site-packages/keras/utils/traceback_utils.py\", line 67, in error_handler\n        raise e.with_traceback(filtered_tb) from None\n    File \"/Users/behroozabbaszadeh/opt/anaconda3/lib/python3.8/site-packages/keras/engine/input_spec.py\", line 227, in assert_input_compatibility\n        raise ValueError(f'Input {input_index} of layer \"{layer_name}\" '\n\n    ValueError: Exception encountered when calling layer \"model_11\" (type Functional).\n    \n    Input 0 of layer \"conv2d_1\" is incompatible with the layer: expected min_ndim=4, found ndim=2. Full shape received: (None, 48)\n    \n    Call arguments received:\n      • inputs=tf.Tensor(shape=(None, 48), dtype=int64)\n      • training=False\n      • mask=None\n"
     ]
    }
   ],
   "source": [
    "# The result of prediction (target) based on test set input \n",
    "Predictions=NEW_model.predict(u_test)  "
   ]
  },
  {
   "cell_type": "code",
   "execution_count": 19,
   "metadata": {},
   "outputs": [],
   "source": [
    "# Returning the indices of the MAX value\n",
    "\n",
    "MAX_Index = np.zeros(len(Predictions), dtype=int)\n",
    "\n",
    "for i in range (len(Predictions)):\n",
    "    r=np.argmax(Predictions[i])\n",
    "    \n",
    "    MAX_Index[i]=r\n",
    "    \n"
   ]
  },
  {
   "cell_type": "code",
   "execution_count": 191,
   "metadata": {},
   "outputs": [
    {
     "data": {
      "text/plain": [
       "0.4369133634430801"
      ]
     },
     "execution_count": 191,
     "metadata": {},
     "output_type": "execute_result"
    }
   ],
   "source": [
    "# delete\n",
    "from sklearn.metrics import matthews_corrcoef\n",
    "matthews_corrcoef(u_testtarget, tt)"
   ]
  },
  {
   "cell_type": "code",
   "execution_count": 21,
   "metadata": {},
   "outputs": [
    {
     "data": {
      "text/plain": [
       "(7176,)"
      ]
     },
     "execution_count": 21,
     "metadata": {},
     "output_type": "execute_result"
    }
   ],
   "source": [
    "np.shape(ytest)\n"
   ]
  },
  {
   "cell_type": "code",
   "execution_count": 200,
   "metadata": {},
   "outputs": [
    {
     "data": {
      "text/plain": [
       "5"
      ]
     },
     "execution_count": 200,
     "metadata": {},
     "output_type": "execute_result"
    }
   ],
   "source": [
    "# maybe delete\n",
    "final_image=np.expand_dims(final_image,axis=0)\n",
    "final_image=final_image/255.0\n",
    "Prediction=new_model.predict(final_image)\n",
    "np.argmax(Prediction)"
   ]
  },
  {
   "cell_type": "markdown",
   "metadata": {},
   "source": [
    "The link for setting up CoLAb GPU\n",
    "https://medium.com/dataman-in-ai/start-using-google-colab-free-gpu-7968acb7ef92\n"
   ]
  },
  {
   "cell_type": "code",
   "execution_count": 22,
   "metadata": {},
   "outputs": [],
   "source": [
    "# Using confusion matrix to evaluate where errors in the model were made\n",
    "\n",
    "from sklearn.metrics import confusion_matrix\n",
    "import pandas as pd\n",
    "import seaborn as sns\n",
    "cm = confusion_matrix(ytest, MAX_Index)\n",
    "cm_df = pd.DataFrame(cm,\n",
    "                     index = ['HA','SA','FE','SU','NE','AN','DI'], \n",
    "                     columns = ['HA','SA','FE','SU','NE','AN','DI'])"
   ]
  },
  {
   "cell_type": "code",
   "execution_count": 23,
   "metadata": {},
   "outputs": [
    {
     "data": {
      "image/png": "[encoded data removed]",
      "text/plain": [
       "<Figure size 360x288 with 2 Axes>"
      ]
     },
     "metadata": {
      "needs_background": "light"
     },
     "output_type": "display_data"
    }
   ],
   "source": [
    "#Plotting the confusion matrix for multiple classes\n",
    "\n",
    "plt.figure(figsize=(5,4))\n",
    "sns.heatmap(cm_df, annot=True)\n",
    "plt.title('Confusion Matrix')\n",
    "plt.ylabel('Actal Values')\n",
    "plt.xlabel('Predicted Values')\n",
    "plt.show()"
   ]
  },
  {
   "cell_type": "code",
   "execution_count": 26,
   "metadata": {},
   "outputs": [
    {
     "name": "stderr",
     "output_type": "stream",
     "text": [
      "/var/folders/ks/l13bjd_n7lxglzbttng3p1zc0000gp/T/ipykernel_51494/3903646957.py:3: DeprecationWarning: `np.float` is a deprecated alias for the builtin `float`. To silence this warning, use `float` by itself. Doing this will not modify any behavior and is safe. If you specifically wanted the numpy scalar type, use `np.float64` here.\n",
      "Deprecated in NumPy 1.20; for more details and guidance: https://numpy.org/devdocs/release/1.20.0-notes.html#deprecations\n",
      "  NORM=cm / cm.astype(np.float).sum(axis=1)\n"
     ]
    },
    {
     "data": {
      "image/png": "[encoded data removed]",
      "text/plain": [
       "<Figure size 360x288 with 2 Axes>"
      ]
     },
     "metadata": {
      "needs_background": "light"
     },
     "output_type": "display_data"
    }
   ],
   "source": [
    "# Normalizing the confusion matrix\n",
    "\n",
    "NORM=cm / cm.astype(np.float).sum(axis=1)\n",
    "NORM_df = pd.DataFrame(NORM,\n",
    "                     index = ['HA','SA','FE','SU','NE','AN','DI'], \n",
    "                     columns = ['HA','SA','FE','SU','NE','AN','DI'])\n",
    "\n",
    "plt.figure(figsize=(5,4))\n",
    "sns.heatmap(NORM_df, annot=True)\n",
    "plt.title('Confusion Matrix')\n",
    "plt.ylabel('Actal Values')\n",
    "plt.xlabel('Predicted Values')\n",
    "plt.show()"
   ]
  },
  {
   "cell_type": "code",
   "execution_count": null,
   "metadata": {},
   "outputs": [],
   "source": []
  }
 ],
 "metadata": {
  "interpreter": {
   "hash": "fb72e7c17778474f6d7f9ef4540e767774ea52be7fe392a4cba80cf1f96e9156"
  },
  "kernelspec": {
   "display_name": "Python 3.8.8 64-bit ('base': conda)",
   "language": "python",
   "name": "python3"
  },
  "language_info": {
   "codemirror_mode": {
    "name": "ipython",
    "version": 3
   },
   "file_extension": ".py",
   "mimetype": "text/x-python",
   "name": "python",
   "nbconvert_exporter": "python",
   "pygments_lexer": "ipython3",
   "version": "3.8.8"
  },
  "orig_nbformat": 4
 },
 "nbformat": 4,
 "nbformat_minor": 2
}
